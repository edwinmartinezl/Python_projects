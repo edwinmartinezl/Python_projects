{
 "cells": [
  {
   "cell_type": "code",
   "execution_count": 47,
   "metadata": {},
   "outputs": [],
   "source": [
    "import pandas as pd\n"
   ]
  },
  {
   "cell_type": "code",
   "execution_count": null,
   "metadata": {},
   "outputs": [],
   "source": [
    "# cargar una hoja del libro\n",
    "xls = pd.ExcelFile('data.xlsx')\n",
    "x= xls.parse('MATRÍCULA-NIVEL')\n",
    "print(x.head(7).to_string())"
   ]
  },
  {
   "cell_type": "code",
   "execution_count": 27,
   "metadata": {},
   "outputs": [
    {
     "name": "stdout",
     "output_type": "stream",
     "text": [
      "8\n"
     ]
    }
   ],
   "source": [
    "# cuando trabajamos con varias hojas\n",
    "xls = pd.ExcelFile('data.xlsx')\n",
    "hojas = xls.sheet_names\n",
    "print(len(hojas))\n"
   ]
  },
  {
   "cell_type": "code",
   "execution_count": null,
   "metadata": {},
   "outputs": [],
   "source": [
    "# mostrar estadisticas de de las colunnas numericas\n",
    "xls = pd.ExcelFile('data.xlsx')\n",
    "hojas = xls.parse('')\n"
   ]
  },
  {
   "cell_type": "code",
   "execution_count": null,
   "metadata": {},
   "outputs": [],
   "source": [
    "# accediendo a las colunnas\n",
    "with pd.ExcelFile('data.xlsx') as libro:\n",
    "    hoja = libro.parse('Regionales')\n",
    "    col = hoja['Nivel']\n",
    "    niveles = col.value_counts()\n",
    "\n",
    "    #print(col.value_counts())\n",
    "\n",
    "# convertir en dataframe y exportar a xls:\n",
    "df_niveles = niveles.reset_index()\n",
    "df_niveles.columns=['Niveles', 'Cantidad']\n",
    "print(df_niveles)\n",
    "df_niveles.to_excel('etl_data.xlsx')\n"
   ]
  },
  {
   "cell_type": "code",
   "execution_count": 25,
   "metadata": {},
   "outputs": [],
   "source": [
    "# 3- Cantidad de niveles educativos en todo el pais  -- 100%\n",
    "\n",
    "with pd.ExcelWriter('etl_data.xlsx', mode='a', engine='openpyxl', if_sheet_exists='replace') as escribir:\n",
    "    # agregamos una nueva hoja al archivo\n",
    "    df_niveles.to_excel(escribir, sheet_name='Niveles Totales', index=False)\n"
   ]
  },
  {
   "cell_type": "code",
   "execution_count": null,
   "metadata": {},
   "outputs": [],
   "source": [
    "# 4 - Cantidad de niveles educativos por provincia \n",
    "# accediendo a las colunnas\n",
    "with pd.ExcelFile('data.xlsx') as libro:\n",
    "    hoja = libro.parse('Regionales')\n",
    "    col = hoja['Regional']\n",
    "    niveles = col.value_counts()\n",
    "    #print(niveles)\n",
    "new_data = niveles.reset_index()\n",
    "new_data.columns=['Provincia', \"Centros educativos\"]\n",
    "#print(new_data)\n",
    "\n",
    "with pd.ExcelWriter('etl_data.xlsx', mode='a', engine='openpyxl', if_sheet_exists='replace') as escribir:\n",
    "    # agregamos una nueva hoja al archivo\n",
    "    new_data.to_excel(escribir, sheet_name='Provincias', index=False)\n",
    "print(new_data)"
   ]
  },
  {
   "cell_type": "code",
   "execution_count": 45,
   "metadata": {},
   "outputs": [
    {
     "name": "stdout",
     "output_type": "stream",
     "text": [
      "    NACIONALIDAD  SECTOR PÚBLICO  SECTOR PRIVADO  SECTOR SEMIOFICIAL    PERIODO\n",
      "0     Dominicana         2011858          597840               56158  2015-2016\n",
      "28    Dominicana         2001769          600716               50620  2016-2017\n",
      "55    Dominicana         1979058          608209               46532  2017-2018\n",
      "82    Dominicana         2004292          633881               46469  2018-2019\n",
      "109   Dominicana         1963008          618917               45904  2019-2020\n",
      "135   Dominicana         1866972          359850               33613  2020-2021\n"
     ]
    }
   ],
   "source": [
    "# filtrar en la tabla:\n",
    "with pd.ExcelFile('data.xlsx') as libro:\n",
    "    hoja = libro.parse('Matrícula-Nacionalidad')\n",
    "    #print(filtro.to_string())\n",
    "    # recorrer cada nacionalidad totales\n",
    "    for i in hoja['NACIONALIDAD']:\n",
    "        filtro = hoja[hoja['NACIONALIDAD']=='Dominicana']\n",
    "   # print(filtro.to_string())\n",
    "    temp_df = pd.DataFrame(filtro)\n",
    "    print(temp_df.to_string())\n",
    "\n",
    "\n",
    "    "
   ]
  },
  {
   "cell_type": "code",
   "execution_count": null,
   "metadata": {},
   "outputs": [],
   "source": [
    "with pd.ExcelFile('data.xlsx') as libro:\n",
    "    hoja = libro.parse('Matrícula-Nacionalidad')\n",
    "    for i in hoja['NACIONALIDAD']:\n",
    "        filtro = hoja[hoja['NACIONALIDAD']==i]\n",
    "    #print(filtro.to_string())\n",
    "    # Sumar las colunnas\n",
    "    col_sum_public = filtro['SECTOR PÚBLICO'].sum()\n",
    "    col_sum_private = filtro['SECTOR PRIVADO'].sum()\n",
    "    col_sum_semiOficial = filtro['SECTOR SEMIOFICIAL'].sum()\n",
    "    # acceder a nacionalidad\n",
    "    nacion = filtro['NACIONALIDAD']\n",
    "    print(nacion)\n"
   ]
  },
  {
   "cell_type": "code",
   "execution_count": null,
   "metadata": {},
   "outputs": [],
   "source": [
    "with pd.ExcelFile('data.xlsx') as libro:\n",
    "    hoja = libro.parse('Matrícula-Nacionalidad')\n",
    "    col = hoja['NACIONALIDAD']\n",
    "    print(col.value_counts().to_string())"
   ]
  },
  {
   "cell_type": "code",
   "execution_count": null,
   "metadata": {},
   "outputs": [],
   "source": [
    "\n",
    "# Cargar el archivo Excel\n",
    "with pd.ExcelFile('data.xlsx') as libro:\n",
    "    hoja = libro.parse('Matrícula-Nacionalidad')\n",
    "\n",
    "# Crear una lista vacía para almacenar los resultados\n",
    "resultados = []\n",
    "\n",
    "# Obtener las nacionalidades únicas\n",
    "nacionalidades = hoja['NACIONALIDAD'].unique()\n",
    "\n",
    "# Recorrer cada nacionalidad\n",
    "for nacionalidad in nacionalidades:\n",
    "    # Filtrar las filas por nacionalidad\n",
    "    filtro = hoja[hoja['NACIONALIDAD'] == nacionalidad]\n",
    "    \n",
    "    # Sumar las columnas numéricas\n",
    "    col_sum_public = filtro['SECTOR PÚBLICO'].sum()\n",
    "    col_sum_private = filtro['SECTOR PRIVADO'].sum()\n",
    "    col_sum_semiOficial = filtro['SECTOR SEMIOFICIAL'].sum()\n",
    "    \n",
    "    # Crear un diccionario con los resultados\n",
    "    registro = {\n",
    "        'NACIONALIDAD': nacionalidad,\n",
    "        'SECTOR PÚBLICO': col_sum_public,\n",
    "        'SECTOR PRIVADO': col_sum_private,\n",
    "        'SECTOR SEMIOFICIAL': col_sum_semiOficial,\n",
    "        'PERIODO': '2015-2021'\n",
    "    }\n",
    "    \n",
    "    # Añadir el registro a la lista de resultados\n",
    "    resultados.append(registro)\n",
    "\n",
    "# Convertir la lista de resultados en un nuevo DataFrame\n",
    "df_resultados = pd.DataFrame(resultados)\n",
    "\n",
    "# ordenar de mayor a menor las colunnas\n",
    "order = df_resultados.sort_values(by='SECTOR PÚBLICO', ascending=False)\n",
    "\n",
    "with pd.ExcelWriter('etl_data.xlsx', mode='a', engine='openpyxl', if_sheet_exists='replace') as escribir:\n",
    "    # agregamos una nueva hoja al archivo\n",
    "    order.to_excel(escribir, sheet_name='Nacionalidades', index=False)\n",
    "# Mostrar el DataFrame resultante\n",
    "print(order.to_string())\n",
    "\n",
    "\n"
   ]
  }
 ],
 "metadata": {
  "kernelspec": {
   "display_name": "Python 3",
   "language": "python",
   "name": "python3"
  },
  "language_info": {
   "codemirror_mode": {
    "name": "ipython",
    "version": 3
   },
   "file_extension": ".py",
   "mimetype": "text/x-python",
   "name": "python",
   "nbconvert_exporter": "python",
   "pygments_lexer": "ipython3",
   "version": "3.11.9"
  }
 },
 "nbformat": 4,
 "nbformat_minor": 2
}
